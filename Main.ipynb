{
 "cells": [
  {
   "cell_type": "markdown",
   "id": "efd9e00c",
   "metadata": {},
   "source": [
    "# Movie Reccomender System"
   ]
  },
  {
   "cell_type": "markdown",
   "id": "f73a580a",
   "metadata": {},
   "source": [
    "### Importing Libraries"
   ]
  },
  {
   "cell_type": "code",
   "execution_count": 49,
   "id": "a9348183-809c-4cce-9e7c-df8e1c4f76a6",
   "metadata": {},
   "outputs": [],
   "source": [
    "import pandas as pd"
   ]
  },
  {
   "cell_type": "markdown",
   "id": "aa5266e0-e596-4a2a-975b-c4d13a3b5a16",
   "metadata": {},
   "source": [
    "Import Pandas for data manipulation\r\n"
   ]
  },
  {
   "cell_type": "markdown",
   "id": "9f6604fa-99d8-4f77-bf22-1108f6c9e639",
   "metadata": {},
   "source": [
    "### Loading Data"
   ]
  },
  {
   "cell_type": "code",
   "execution_count": 50,
   "id": "7603a9d4-24fc-47cf-a06a-a5e0f315a9d4",
   "metadata": {},
   "outputs": [],
   "source": [
    "movies = pd.read_csv('dataset.csv')"
   ]
  },
  {
   "cell_type": "markdown",
   "id": "bc38044e-1604-43ce-9976-9e29bc286203",
   "metadata": {},
   "source": [
    "Read in the movie dataset from a CSV file\r\n"
   ]
  },
  {
   "cell_type": "markdown",
   "id": "c44d6dde-7078-44f2-8349-827e89b987a0",
   "metadata": {},
   "source": [
    "### Feature Selection"
   ]
  },
  {
   "cell_type": "markdown",
   "id": "b8eb6ffd-7e89-4f1c-83eb-196a803345db",
   "metadata": {},
   "source": [
    "Reduce columns to only those needed for recommendations"
   ]
  },
  {
   "cell_type": "code",
   "execution_count": 51,
   "id": "ed77ed3d-dd59-4e4c-b8d2-12b6d79cf985",
   "metadata": {},
   "outputs": [],
   "source": [
    "movies = movies[['id', 'title', 'overview', 'genre']]"
   ]
  },
  {
   "cell_type": "markdown",
   "id": "14ac4f00-14ce-49f1-98ba-6fd2f1710a3c",
   "metadata": {},
   "source": [
    "### Create Tags Column\n"
   ]
  },
  {
   "cell_type": "markdown",
   "id": "a57cc5c6-5958-4089-a057-cc5184db10bc",
   "metadata": {},
   "source": [
    "Join overview and genre for a tags column to apply text vectorization to"
   ]
  },
  {
   "cell_type": "code",
   "execution_count": 52,
   "id": "eca17d53-6920-446e-8a01-cc2233859bb2",
   "metadata": {},
   "outputs": [],
   "source": [
    "movies['tags'] = movies['overview'] + movies['genre']"
   ]
  },
  {
   "cell_type": "markdown",
   "id": "fa39b19b-bcb9-4906-a86b-170b05f30b9e",
   "metadata": {},
   "source": [
    "### Drop Unused Columns"
   ]
  },
  {
   "cell_type": "code",
   "execution_count": 53,
   "id": "135f0c59-8b2f-4036-a158-7ee0f3ed6531",
   "metadata": {},
   "outputs": [],
   "source": [
    "new_data = movies.drop(columns=['overview','genre'])"
   ]
  },
  {
   "cell_type": "markdown",
   "id": "8f14c91d-a503-43f5-aa56-93b371f5aa9d",
   "metadata": {},
   "source": [
    "### Vectorize Text Data\n"
   ]
  },
  {
   "cell_type": "markdown",
   "id": "8a54d45a-2dd5-42a5-85da-fff1a793d473",
   "metadata": {},
   "source": [
    "Use CountVectorizer to convert tags to numerical vectors"
   ]
  },
  {
   "cell_type": "code",
   "execution_count": 54,
   "id": "03084e3d-f75d-4b25-9e62-1deef405a4cb",
   "metadata": {},
   "outputs": [],
   "source": [
    "from sklearn.feature_extraction.text import CountVectorizer"
   ]
  },
  {
   "cell_type": "code",
   "execution_count": 55,
   "id": "737c7b8b-91b8-42ec-a262-c273a7db470c",
   "metadata": {},
   "outputs": [],
   "source": [
    "cv = CountVectorizer(max_features = 10000, stop_words='english')"
   ]
  },
  {
   "cell_type": "code",
   "execution_count": 56,
   "id": "584f129d-e2cb-4ff3-903b-5601f50d0b35",
   "metadata": {},
   "outputs": [],
   "source": [
    "vector = cv.fit_transform(new_data['tags'].values.astype('U')).toarray()"
   ]
  },
  {
   "cell_type": "markdown",
   "id": "af05979f-1665-4921-8340-fed7b9cbecef",
   "metadata": {},
   "source": [
    "### Generate Similarity Matrix\n"
   ]
  },
  {
   "cell_type": "markdown",
   "id": "8c2eecb9-8985-4f34-95c2-880a79ac527a",
   "metadata": {},
   "source": [
    "Use cosine similarity to measure similarity between all movie vector pairs"
   ]
  },
  {
   "cell_type": "code",
   "execution_count": 57,
   "id": "98a1e37b-6b4f-4c8c-9c66-1f4db45482a5",
   "metadata": {},
   "outputs": [],
   "source": [
    "from sklearn.metrics.pairwise import cosine_similarity"
   ]
  },
  {
   "cell_type": "code",
   "execution_count": 58,
   "id": "13b3782c-6c6e-437d-bdb4-b02f7b19900e",
   "metadata": {},
   "outputs": [],
   "source": [
    "similarity = cosine_similarity(vector)"
   ]
  },
  {
   "cell_type": "markdown",
   "id": "b34c8573-5945-41cd-ae70-fb667dcb0982",
   "metadata": {},
   "source": [
    "### Save Data and Model"
   ]
  },
  {
   "cell_type": "code",
   "execution_count": 59,
   "id": "1b88dbe4-8393-4768-b2a7-2259d2d198f2",
   "metadata": {},
   "outputs": [],
   "source": [
    "import pickle"
   ]
  },
  {
   "cell_type": "markdown",
   "id": "cb0a99f2-239a-4629-b501-7400eb4bfa73",
   "metadata": {},
   "source": [
    "Pickle the data and similarity matrix to files for later use"
   ]
  },
  {
   "cell_type": "code",
   "execution_count": 60,
   "id": "5e420cae-92ca-4545-9d69-3bd04aad6fa8",
   "metadata": {},
   "outputs": [],
   "source": [
    "pickle.dump(new_data, open('movies_list.pkl', 'wb'))"
   ]
  },
  {
   "cell_type": "code",
   "execution_count": 64,
   "id": "5518cdf7-3840-4490-b1c6-e28fadaa658e",
   "metadata": {},
   "outputs": [],
   "source": [
    "pickle.dump(similarity, open('similarity.pkl', 'wb'))"
   ]
  },
  {
   "cell_type": "code",
   "execution_count": null,
   "id": "3e712c1c-881d-407d-9ca9-79fd141b3472",
   "metadata": {},
   "outputs": [],
   "source": []
  }
 ],
 "metadata": {
  "kernelspec": {
   "display_name": "Python 3 (ipykernel)",
   "language": "python",
   "name": "python3"
  },
  "language_info": {
   "codemirror_mode": {
    "name": "ipython",
    "version": 3
   },
   "file_extension": ".py",
   "mimetype": "text/x-python",
   "name": "python",
   "nbconvert_exporter": "python",
   "pygments_lexer": "ipython3",
   "version": "3.11.3"
  }
 },
 "nbformat": 4,
 "nbformat_minor": 5
}
